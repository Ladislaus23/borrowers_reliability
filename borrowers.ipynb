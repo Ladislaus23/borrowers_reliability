{
 "cells": [
  {
   "cell_type": "markdown",
   "id": "2da36a86",
   "metadata": {
    "toc": true
   },
   "source": [
    "<h1>Содержание<span class=\"tocSkip\"></span></h1>\n",
    "<div class=\"toc\"><ul class=\"toc-item\"><li><span><a href=\"#Постановка-задачи\" data-toc-modified-id=\"Постановка-задачи-1\"><span class=\"toc-item-num\">1&nbsp;&nbsp;</span>Постановка задачи</a></span></li><li><span><a href=\"#Получим-общую-информацию-о-данных\" data-toc-modified-id=\"Получим-общую-информацию-о-данных-2\"><span class=\"toc-item-num\">2&nbsp;&nbsp;</span>Получим общую информацию о данных</a></span></li><li><span><a href=\"#Предобработка-данных\" data-toc-modified-id=\"Предобработка-данных-3\"><span class=\"toc-item-num\">3&nbsp;&nbsp;</span>Предобработка данных</a></span><ul class=\"toc-item\"><li><span><a href=\"#Удаление-пропусков\" data-toc-modified-id=\"Удаление-пропусков-3.1\"><span class=\"toc-item-num\">3.1&nbsp;&nbsp;</span>Удаление пропусков</a></span></li><li><span><a href=\"#Обработка-аномальных-значений\" data-toc-modified-id=\"Обработка-аномальных-значений-3.2\"><span class=\"toc-item-num\">3.2&nbsp;&nbsp;</span>Обработка аномальных значений</a></span></li><li><span><a href=\"#Удаление-пропусков-(продолжение)\" data-toc-modified-id=\"Удаление-пропусков-(продолжение)-3.3\"><span class=\"toc-item-num\">3.3&nbsp;&nbsp;</span>Удаление пропусков (продолжение)</a></span></li><li><span><a href=\"#Изменение-типов-данных\" data-toc-modified-id=\"Изменение-типов-данных-3.4\"><span class=\"toc-item-num\">3.4&nbsp;&nbsp;</span>Изменение типов данных</a></span></li><li><span><a href=\"#Обработка-дубликатов\" data-toc-modified-id=\"Обработка-дубликатов-3.5\"><span class=\"toc-item-num\">3.5&nbsp;&nbsp;</span>Обработка дубликатов</a></span></li></ul></li><li><span><a href=\"#Исследование-данных\" data-toc-modified-id=\"Исследование-данных-4\"><span class=\"toc-item-num\">4&nbsp;&nbsp;</span>Исследование данных</a></span></li><li><span><a href=\"#Общий-вывод\" data-toc-modified-id=\"Общий-вывод-5\"><span class=\"toc-item-num\">5&nbsp;&nbsp;</span>Общий вывод</a></span></li></ul></div>"
   ]
  },
  {
   "cell_type": "markdown",
   "id": "c81daeeb",
   "metadata": {
    "deletable": false,
    "id": "c81daeeb"
   },
   "source": [
    "# Исследование надежности заемщиков"
   ]
  },
  {
   "cell_type": "markdown",
   "id": "6e96c60e",
   "metadata": {},
   "source": [
    "## Постановка задачи"
   ]
  },
  {
   "cell_type": "markdown",
   "id": "465aba7a",
   "metadata": {},
   "source": [
    "Заказчик — кредитный отдел банка. Нужно разобраться, влияет ли семейное положение и количество детей клиента на факт погашения кредита в срок. Входные данные от банка — статистика о платёжеспособности клиентов.\n",
    "\n",
    "Результаты исследования будут учтены при построении модели кредитного скоринга — специальной системы, которая оценивает способность потенциального заёмщика вернуть кредит банку."
   ]
  },
  {
   "cell_type": "markdown",
   "id": "744d7639",
   "metadata": {
    "deletable": false,
    "id": "744d7639"
   },
   "source": [
    "## Получим общую информацию о данных"
   ]
  },
  {
   "cell_type": "markdown",
   "id": "e7a14c31",
   "metadata": {
    "deletable": false,
    "id": "e7a14c31"
   },
   "source": [
    "Импортируем библиотеки, считаем данные из csv-файла:"
   ]
  },
  {
   "cell_type": "code",
   "execution_count": 1,
   "id": "7bcf75c9",
   "metadata": {
    "deletable": false,
    "id": "7bcf75c9"
   },
   "outputs": [],
   "source": [
    "import pandas as pd\n",
    "import matplotlib.pyplot as plt "
   ]
  },
  {
   "cell_type": "code",
   "execution_count": 2,
   "id": "14718f4e",
   "metadata": {},
   "outputs": [],
   "source": [
    "try:\n",
    "    data = pd.read_csv('/datasets/data.csv')\n",
    "except:\n",
    "    data = pd.read_csv('https://code.s3.yandex.net/datasets/data.csv')"
   ]
  },
  {
   "cell_type": "markdown",
   "id": "b8038fe3",
   "metadata": {
    "deletable": false,
    "id": "b8038fe3"
   },
   "source": [
    "Первые 5 строк датафрейма:"
   ]
  },
  {
   "cell_type": "code",
   "execution_count": 3,
   "id": "2a7cab99",
   "metadata": {
    "deletable": false,
    "id": "2a7cab99",
    "outputId": "1a8f3ef2-d323-4ec2-ddf7-89670b5944c4"
   },
   "outputs": [
    {
     "data": {
      "text/html": [
       "<div>\n",
       "<style scoped>\n",
       "    .dataframe tbody tr th:only-of-type {\n",
       "        vertical-align: middle;\n",
       "    }\n",
       "\n",
       "    .dataframe tbody tr th {\n",
       "        vertical-align: top;\n",
       "    }\n",
       "\n",
       "    .dataframe thead th {\n",
       "        text-align: right;\n",
       "    }\n",
       "</style>\n",
       "<table border=\"1\" class=\"dataframe\">\n",
       "  <thead>\n",
       "    <tr style=\"text-align: right;\">\n",
       "      <th></th>\n",
       "      <th>children</th>\n",
       "      <th>days_employed</th>\n",
       "      <th>dob_years</th>\n",
       "      <th>education</th>\n",
       "      <th>education_id</th>\n",
       "      <th>family_status</th>\n",
       "      <th>family_status_id</th>\n",
       "      <th>gender</th>\n",
       "      <th>income_type</th>\n",
       "      <th>debt</th>\n",
       "      <th>total_income</th>\n",
       "      <th>purpose</th>\n",
       "    </tr>\n",
       "  </thead>\n",
       "  <tbody>\n",
       "    <tr>\n",
       "      <th>0</th>\n",
       "      <td>1</td>\n",
       "      <td>-8437.673028</td>\n",
       "      <td>42</td>\n",
       "      <td>высшее</td>\n",
       "      <td>0</td>\n",
       "      <td>женат / замужем</td>\n",
       "      <td>0</td>\n",
       "      <td>F</td>\n",
       "      <td>сотрудник</td>\n",
       "      <td>0</td>\n",
       "      <td>253875.639453</td>\n",
       "      <td>покупка жилья</td>\n",
       "    </tr>\n",
       "    <tr>\n",
       "      <th>1</th>\n",
       "      <td>1</td>\n",
       "      <td>-4024.803754</td>\n",
       "      <td>36</td>\n",
       "      <td>среднее</td>\n",
       "      <td>1</td>\n",
       "      <td>женат / замужем</td>\n",
       "      <td>0</td>\n",
       "      <td>F</td>\n",
       "      <td>сотрудник</td>\n",
       "      <td>0</td>\n",
       "      <td>112080.014102</td>\n",
       "      <td>приобретение автомобиля</td>\n",
       "    </tr>\n",
       "    <tr>\n",
       "      <th>2</th>\n",
       "      <td>0</td>\n",
       "      <td>-5623.422610</td>\n",
       "      <td>33</td>\n",
       "      <td>Среднее</td>\n",
       "      <td>1</td>\n",
       "      <td>женат / замужем</td>\n",
       "      <td>0</td>\n",
       "      <td>M</td>\n",
       "      <td>сотрудник</td>\n",
       "      <td>0</td>\n",
       "      <td>145885.952297</td>\n",
       "      <td>покупка жилья</td>\n",
       "    </tr>\n",
       "    <tr>\n",
       "      <th>3</th>\n",
       "      <td>3</td>\n",
       "      <td>-4124.747207</td>\n",
       "      <td>32</td>\n",
       "      <td>среднее</td>\n",
       "      <td>1</td>\n",
       "      <td>женат / замужем</td>\n",
       "      <td>0</td>\n",
       "      <td>M</td>\n",
       "      <td>сотрудник</td>\n",
       "      <td>0</td>\n",
       "      <td>267628.550329</td>\n",
       "      <td>дополнительное образование</td>\n",
       "    </tr>\n",
       "    <tr>\n",
       "      <th>4</th>\n",
       "      <td>0</td>\n",
       "      <td>340266.072047</td>\n",
       "      <td>53</td>\n",
       "      <td>среднее</td>\n",
       "      <td>1</td>\n",
       "      <td>гражданский брак</td>\n",
       "      <td>1</td>\n",
       "      <td>F</td>\n",
       "      <td>пенсионер</td>\n",
       "      <td>0</td>\n",
       "      <td>158616.077870</td>\n",
       "      <td>сыграть свадьбу</td>\n",
       "    </tr>\n",
       "  </tbody>\n",
       "</table>\n",
       "</div>"
      ],
      "text/plain": [
       "   children  days_employed  dob_years education  education_id  \\\n",
       "0         1   -8437.673028         42    высшее             0   \n",
       "1         1   -4024.803754         36   среднее             1   \n",
       "2         0   -5623.422610         33   Среднее             1   \n",
       "3         3   -4124.747207         32   среднее             1   \n",
       "4         0  340266.072047         53   среднее             1   \n",
       "\n",
       "      family_status  family_status_id gender income_type  debt   total_income  \\\n",
       "0   женат / замужем                 0      F   сотрудник     0  253875.639453   \n",
       "1   женат / замужем                 0      F   сотрудник     0  112080.014102   \n",
       "2   женат / замужем                 0      M   сотрудник     0  145885.952297   \n",
       "3   женат / замужем                 0      M   сотрудник     0  267628.550329   \n",
       "4  гражданский брак                 1      F   пенсионер     0  158616.077870   \n",
       "\n",
       "                      purpose  \n",
       "0               покупка жилья  \n",
       "1     приобретение автомобиля  \n",
       "2               покупка жилья  \n",
       "3  дополнительное образование  \n",
       "4             сыграть свадьбу  "
      ]
     },
     "metadata": {},
     "output_type": "display_data"
    }
   ],
   "source": [
    "display(data.head(5))"
   ]
  },
  {
   "cell_type": "markdown",
   "id": "1c12e233",
   "metadata": {
    "deletable": false,
    "id": "1c12e233"
   },
   "source": [
    "Общая информация о датафрейме:"
   ]
  },
  {
   "cell_type": "code",
   "execution_count": 4,
   "id": "2b757bca",
   "metadata": {
    "deletable": false,
    "id": "2b757bca",
    "outputId": "15376089-8dad-46c9-b520-c05248d43158",
    "scrolled": false
   },
   "outputs": [
    {
     "name": "stdout",
     "output_type": "stream",
     "text": [
      "<class 'pandas.core.frame.DataFrame'>\n",
      "RangeIndex: 21525 entries, 0 to 21524\n",
      "Data columns (total 12 columns):\n",
      " #   Column            Non-Null Count  Dtype  \n",
      "---  ------            --------------  -----  \n",
      " 0   children          21525 non-null  int64  \n",
      " 1   days_employed     19351 non-null  float64\n",
      " 2   dob_years         21525 non-null  int64  \n",
      " 3   education         21525 non-null  object \n",
      " 4   education_id      21525 non-null  int64  \n",
      " 5   family_status     21525 non-null  object \n",
      " 6   family_status_id  21525 non-null  int64  \n",
      " 7   gender            21525 non-null  object \n",
      " 8   income_type       21525 non-null  object \n",
      " 9   debt              21525 non-null  int64  \n",
      " 10  total_income      19351 non-null  float64\n",
      " 11  purpose           21525 non-null  object \n",
      "dtypes: float64(2), int64(5), object(5)\n",
      "memory usage: 2.0+ MB\n"
     ]
    }
   ],
   "source": [
    "data.info()"
   ]
  },
  {
   "cell_type": "markdown",
   "id": "b5f96ecf",
   "metadata": {},
   "source": [
    "Информация о столбцах в таблице:"
   ]
  },
  {
   "cell_type": "markdown",
   "id": "9ad2eaca",
   "metadata": {},
   "source": [
    "- `children` — количество детей в семье\n",
    "- `days_employed` — общий трудовой стаж в днях\n",
    "- `dob_years` — возраст клиента в годах\n",
    "- `education` — уровень образования клиента\n",
    "- `education_id` — идентификатор уровня образования\n",
    "- `family_status` — семейное положение\n",
    "- `family_status_id` — идентификатор семейного положения\n",
    "- `gender` — пол клиента\n",
    "- `income_type` — тип занятости\n",
    "- `debt` — имел ли задолженность по возврату кредитов\n",
    "- `total_income` — ежемесячный доход\n",
    "- `purpose` — цель получения кредита"
   ]
  },
  {
   "cell_type": "markdown",
   "id": "333ec665",
   "metadata": {
    "deletable": false,
    "id": "333ec665"
   },
   "source": [
    "## Предобработка данных"
   ]
  },
  {
   "cell_type": "markdown",
   "id": "02d92d53",
   "metadata": {
    "deletable": false,
    "id": "02d92d53"
   },
   "source": [
    "### Удаление пропусков"
   ]
  },
  {
   "cell_type": "markdown",
   "id": "cd84967c",
   "metadata": {
    "deletable": false,
    "id": "cd84967c"
   },
   "source": [
    "**Выведем количество пропущенных значений для каждого столбца:**"
   ]
  },
  {
   "cell_type": "code",
   "execution_count": 5,
   "id": "7f9b2309",
   "metadata": {
    "deletable": false,
    "id": "7f9b2309",
    "outputId": "81f4d817-781c-465c-ed15-91ce4446810d",
    "scrolled": false
   },
   "outputs": [
    {
     "data": {
      "text/html": [
       "<div>\n",
       "<style scoped>\n",
       "    .dataframe tbody tr th:only-of-type {\n",
       "        vertical-align: middle;\n",
       "    }\n",
       "\n",
       "    .dataframe tbody tr th {\n",
       "        vertical-align: top;\n",
       "    }\n",
       "\n",
       "    .dataframe thead th {\n",
       "        text-align: right;\n",
       "    }\n",
       "</style>\n",
       "<table border=\"1\" class=\"dataframe\">\n",
       "  <thead>\n",
       "    <tr style=\"text-align: right;\">\n",
       "      <th></th>\n",
       "      <th>0</th>\n",
       "    </tr>\n",
       "  </thead>\n",
       "  <tbody>\n",
       "    <tr>\n",
       "      <th>children</th>\n",
       "      <td>0</td>\n",
       "    </tr>\n",
       "    <tr>\n",
       "      <th>days_employed</th>\n",
       "      <td>2174</td>\n",
       "    </tr>\n",
       "    <tr>\n",
       "      <th>dob_years</th>\n",
       "      <td>0</td>\n",
       "    </tr>\n",
       "    <tr>\n",
       "      <th>education</th>\n",
       "      <td>0</td>\n",
       "    </tr>\n",
       "    <tr>\n",
       "      <th>education_id</th>\n",
       "      <td>0</td>\n",
       "    </tr>\n",
       "    <tr>\n",
       "      <th>family_status</th>\n",
       "      <td>0</td>\n",
       "    </tr>\n",
       "    <tr>\n",
       "      <th>family_status_id</th>\n",
       "      <td>0</td>\n",
       "    </tr>\n",
       "    <tr>\n",
       "      <th>gender</th>\n",
       "      <td>0</td>\n",
       "    </tr>\n",
       "    <tr>\n",
       "      <th>income_type</th>\n",
       "      <td>0</td>\n",
       "    </tr>\n",
       "    <tr>\n",
       "      <th>debt</th>\n",
       "      <td>0</td>\n",
       "    </tr>\n",
       "    <tr>\n",
       "      <th>total_income</th>\n",
       "      <td>2174</td>\n",
       "    </tr>\n",
       "    <tr>\n",
       "      <th>purpose</th>\n",
       "      <td>0</td>\n",
       "    </tr>\n",
       "  </tbody>\n",
       "</table>\n",
       "</div>"
      ],
      "text/plain": [
       "                     0\n",
       "children             0\n",
       "days_employed     2174\n",
       "dob_years            0\n",
       "education            0\n",
       "education_id         0\n",
       "family_status        0\n",
       "family_status_id     0\n",
       "gender               0\n",
       "income_type          0\n",
       "debt                 0\n",
       "total_income      2174\n",
       "purpose              0"
      ]
     },
     "execution_count": 5,
     "metadata": {},
     "output_type": "execute_result"
    }
   ],
   "source": [
    "data.isna().sum().to_frame()"
   ]
  },
  {
   "cell_type": "markdown",
   "id": "db86e27b",
   "metadata": {
    "deletable": false,
    "id": "db86e27b"
   },
   "source": [
    "Сначала разберёмся с пропусками в столбце `total_income`, который хранит данные о доходах. На сумму дохода сильнее всего влияет тип занятости, поэтому заполним пропуски в этом столбце медианным значением по каждому типу из столбца `income_type`:"
   ]
  },
  {
   "cell_type": "code",
   "execution_count": 6,
   "id": "42006a93",
   "metadata": {
    "deletable": false,
    "id": "42006a93"
   },
   "outputs": [],
   "source": [
    "for t in data['income_type'].unique():\n",
    "    med = data.loc[(data['income_type'] == t), 'total_income'].median()\n",
    "    data.loc[(data['income_type'] == t) & (data['total_income'].isna()), 'total_income'] = med"
   ]
  },
  {
   "cell_type": "markdown",
   "id": "7609afd9",
   "metadata": {},
   "source": [
    "Чуть позже разберёмся с пропусками в столбце `days_employed`."
   ]
  },
  {
   "cell_type": "markdown",
   "id": "89da5ece",
   "metadata": {
    "deletable": false,
    "id": "89da5ece"
   },
   "source": [
    "### Обработка аномальных значений"
   ]
  },
  {
   "cell_type": "markdown",
   "id": "57964554",
   "metadata": {
    "deletable": false,
    "id": "57964554"
   },
   "source": [
    "**Изучим данные в столбце `days_employed`.** Выше было показано (см. вывод первых пяти строк и общую информацию о таблице), что:\n",
    "- среди данных встречаются отрицательные значения\n",
    "- тип всех данных - float\n",
    "\n",
    "Ввиду этого сделаем все значения неотрицательными:"
   ]
  },
  {
   "cell_type": "code",
   "execution_count": 7,
   "id": "f6f055bf",
   "metadata": {
    "deletable": false,
    "id": "f6f055bf"
   },
   "outputs": [],
   "source": [
    "data['days_employed'] = data['days_employed'].abs()"
   ]
  },
  {
   "cell_type": "markdown",
   "id": "6107dd2f",
   "metadata": {
    "deletable": false,
    "id": "6107dd2f"
   },
   "source": [
    "**Для каждого типа занятости выведем медианное значение трудового стажа `days_employed` в днях:**"
   ]
  },
  {
   "cell_type": "code",
   "execution_count": 8,
   "id": "85a5faf6",
   "metadata": {
    "deletable": false,
    "id": "85a5faf6",
    "outputId": "801ef80e-522b-4668-f34e-565af7432bcf"
   },
   "outputs": [
    {
     "data": {
      "text/html": [
       "<div>\n",
       "<style scoped>\n",
       "    .dataframe tbody tr th:only-of-type {\n",
       "        vertical-align: middle;\n",
       "    }\n",
       "\n",
       "    .dataframe tbody tr th {\n",
       "        vertical-align: top;\n",
       "    }\n",
       "\n",
       "    .dataframe thead th {\n",
       "        text-align: right;\n",
       "    }\n",
       "</style>\n",
       "<table border=\"1\" class=\"dataframe\">\n",
       "  <thead>\n",
       "    <tr style=\"text-align: right;\">\n",
       "      <th></th>\n",
       "      <th>days_employed</th>\n",
       "    </tr>\n",
       "    <tr>\n",
       "      <th>income_type</th>\n",
       "      <th></th>\n",
       "    </tr>\n",
       "  </thead>\n",
       "  <tbody>\n",
       "    <tr>\n",
       "      <th>безработный</th>\n",
       "      <td>366413.652744</td>\n",
       "    </tr>\n",
       "    <tr>\n",
       "      <th>в декрете</th>\n",
       "      <td>3296.759962</td>\n",
       "    </tr>\n",
       "    <tr>\n",
       "      <th>госслужащий</th>\n",
       "      <td>2689.368353</td>\n",
       "    </tr>\n",
       "    <tr>\n",
       "      <th>компаньон</th>\n",
       "      <td>1547.382223</td>\n",
       "    </tr>\n",
       "    <tr>\n",
       "      <th>пенсионер</th>\n",
       "      <td>365213.306266</td>\n",
       "    </tr>\n",
       "    <tr>\n",
       "      <th>предприниматель</th>\n",
       "      <td>520.848083</td>\n",
       "    </tr>\n",
       "    <tr>\n",
       "      <th>сотрудник</th>\n",
       "      <td>1574.202821</td>\n",
       "    </tr>\n",
       "    <tr>\n",
       "      <th>студент</th>\n",
       "      <td>578.751554</td>\n",
       "    </tr>\n",
       "  </tbody>\n",
       "</table>\n",
       "</div>"
      ],
      "text/plain": [
       "                 days_employed\n",
       "income_type                   \n",
       "безработный      366413.652744\n",
       "в декрете          3296.759962\n",
       "госслужащий        2689.368353\n",
       "компаньон          1547.382223\n",
       "пенсионер        365213.306266\n",
       "предприниматель     520.848083\n",
       "сотрудник          1574.202821\n",
       "студент             578.751554"
      ]
     },
     "execution_count": 8,
     "metadata": {},
     "output_type": "execute_result"
    }
   ],
   "source": [
    "data.groupby('income_type')['days_employed'].agg('median').to_frame()"
   ]
  },
  {
   "cell_type": "markdown",
   "id": "38d1a030",
   "metadata": {
    "deletable": false,
    "id": "38d1a030"
   },
   "source": [
    "У безработных и пенсионеров получаются аномально большие значения. Исправить такие значения сложно, поэтому оставим их как есть. Этот столбец не понадобится для дальнейшего исследования."
   ]
  },
  {
   "cell_type": "markdown",
   "id": "d8a9f147",
   "metadata": {
    "deletable": false,
    "id": "d8a9f147"
   },
   "source": [
    "**Выведем перечень уникальных значений столбца `children`:**"
   ]
  },
  {
   "cell_type": "code",
   "execution_count": 49,
   "id": "ef5056eb",
   "metadata": {
    "deletable": false,
    "id": "ef5056eb",
    "outputId": "6975b15c-7f95-4697-d16d-a0c79b657b03"
   },
   "outputs": [
    {
     "name": "stdout",
     "output_type": "stream",
     "text": [
      "[1 0 3 2 4 5]\n"
     ]
    }
   ],
   "source": [
    "print(data['children'].unique())"
   ]
  },
  {
   "cell_type": "markdown",
   "id": "40b9ebf2",
   "metadata": {
    "deletable": false,
    "id": "40b9ebf2"
   },
   "source": [
    "Есть два аномальных значения. Посчитаем количество строк, содержащих такие значения:"
   ]
  },
  {
   "cell_type": "code",
   "execution_count": 10,
   "id": "514acf42",
   "metadata": {
    "scrolled": true
   },
   "outputs": [
    {
     "data": {
      "text/html": [
       "<div>\n",
       "<style scoped>\n",
       "    .dataframe tbody tr th:only-of-type {\n",
       "        vertical-align: middle;\n",
       "    }\n",
       "\n",
       "    .dataframe tbody tr th {\n",
       "        vertical-align: top;\n",
       "    }\n",
       "\n",
       "    .dataframe thead th {\n",
       "        text-align: right;\n",
       "    }\n",
       "</style>\n",
       "<table border=\"1\" class=\"dataframe\">\n",
       "  <thead>\n",
       "    <tr style=\"text-align: right;\">\n",
       "      <th></th>\n",
       "      <th>0</th>\n",
       "    </tr>\n",
       "  </thead>\n",
       "  <tbody>\n",
       "    <tr>\n",
       "      <th>children</th>\n",
       "      <td>123</td>\n",
       "    </tr>\n",
       "    <tr>\n",
       "      <th>days_employed</th>\n",
       "      <td>111</td>\n",
       "    </tr>\n",
       "    <tr>\n",
       "      <th>dob_years</th>\n",
       "      <td>123</td>\n",
       "    </tr>\n",
       "    <tr>\n",
       "      <th>education</th>\n",
       "      <td>123</td>\n",
       "    </tr>\n",
       "    <tr>\n",
       "      <th>education_id</th>\n",
       "      <td>123</td>\n",
       "    </tr>\n",
       "    <tr>\n",
       "      <th>family_status</th>\n",
       "      <td>123</td>\n",
       "    </tr>\n",
       "    <tr>\n",
       "      <th>family_status_id</th>\n",
       "      <td>123</td>\n",
       "    </tr>\n",
       "    <tr>\n",
       "      <th>gender</th>\n",
       "      <td>123</td>\n",
       "    </tr>\n",
       "    <tr>\n",
       "      <th>income_type</th>\n",
       "      <td>123</td>\n",
       "    </tr>\n",
       "    <tr>\n",
       "      <th>debt</th>\n",
       "      <td>123</td>\n",
       "    </tr>\n",
       "    <tr>\n",
       "      <th>total_income</th>\n",
       "      <td>123</td>\n",
       "    </tr>\n",
       "    <tr>\n",
       "      <th>purpose</th>\n",
       "      <td>123</td>\n",
       "    </tr>\n",
       "  </tbody>\n",
       "</table>\n",
       "</div>"
      ],
      "text/plain": [
       "                    0\n",
       "children          123\n",
       "days_employed     111\n",
       "dob_years         123\n",
       "education         123\n",
       "education_id      123\n",
       "family_status     123\n",
       "family_status_id  123\n",
       "gender            123\n",
       "income_type       123\n",
       "debt              123\n",
       "total_income      123\n",
       "purpose           123"
      ]
     },
     "execution_count": 10,
     "metadata": {},
     "output_type": "execute_result"
    }
   ],
   "source": [
    "data[(data['children'] == 20) | (data['children'] == -1)].count().to_frame()"
   ]
  },
  {
   "cell_type": "markdown",
   "id": "3ff5594f",
   "metadata": {},
   "source": [
    "Количество таких значений меньше 1 % от общего числа строк. Исключим их:"
   ]
  },
  {
   "cell_type": "code",
   "execution_count": 11,
   "id": "3ff9801d",
   "metadata": {
    "deletable": false,
    "id": "3ff9801d"
   },
   "outputs": [],
   "source": [
    "data = data[(data['children'] != -1) & (data['children'] != 20)]"
   ]
  },
  {
   "cell_type": "markdown",
   "id": "bbc4d0ce",
   "metadata": {
    "deletable": false,
    "id": "bbc4d0ce"
   },
   "source": [
    "Аномалии исчезли:"
   ]
  },
  {
   "cell_type": "code",
   "execution_count": 50,
   "id": "ad4fa8b7",
   "metadata": {
    "deletable": false,
    "id": "ad4fa8b7",
    "outputId": "b2097101-d49d-44d9-901b-32a65c9463d1"
   },
   "outputs": [
    {
     "name": "stdout",
     "output_type": "stream",
     "text": [
      "[1 0 3 2 4 5]\n"
     ]
    }
   ],
   "source": [
    "print(data['children'].unique())"
   ]
  },
  {
   "cell_type": "markdown",
   "id": "75440b63",
   "metadata": {
    "deletable": false,
    "id": "75440b63"
   },
   "source": [
    "### Удаление пропусков (продолжение)"
   ]
  },
  {
   "cell_type": "markdown",
   "id": "f4ea573f",
   "metadata": {
    "deletable": false,
    "id": "f4ea573f"
   },
   "source": [
    "**Заполним пропуски в столбце `days_employed` медианными значениями для каждого типа занятости `income_type`:**"
   ]
  },
  {
   "cell_type": "code",
   "execution_count": 13,
   "id": "af6b1a7e",
   "metadata": {
    "deletable": false,
    "id": "af6b1a7e"
   },
   "outputs": [],
   "source": [
    "for t in data['income_type'].unique():\n",
    "    med = data.loc[(data['income_type'] == t), 'days_employed'].median()\n",
    "    data.loc[(data['income_type'] == t) & (data['days_employed'].isna()), 'days_employed'] = med"
   ]
  },
  {
   "cell_type": "markdown",
   "id": "2753f40d",
   "metadata": {
    "deletable": false,
    "id": "2753f40d"
   },
   "source": [
    "**Убедимся, что пропуски исчезли:**"
   ]
  },
  {
   "cell_type": "code",
   "execution_count": 14,
   "id": "55f78bc2",
   "metadata": {
    "deletable": false,
    "id": "55f78bc2",
    "outputId": "8da1e4e1-358e-4e87-98c9-f261bce0a7b2"
   },
   "outputs": [
    {
     "data": {
      "text/html": [
       "<div>\n",
       "<style scoped>\n",
       "    .dataframe tbody tr th:only-of-type {\n",
       "        vertical-align: middle;\n",
       "    }\n",
       "\n",
       "    .dataframe tbody tr th {\n",
       "        vertical-align: top;\n",
       "    }\n",
       "\n",
       "    .dataframe thead th {\n",
       "        text-align: right;\n",
       "    }\n",
       "</style>\n",
       "<table border=\"1\" class=\"dataframe\">\n",
       "  <thead>\n",
       "    <tr style=\"text-align: right;\">\n",
       "      <th></th>\n",
       "      <th>0</th>\n",
       "    </tr>\n",
       "  </thead>\n",
       "  <tbody>\n",
       "    <tr>\n",
       "      <th>children</th>\n",
       "      <td>0</td>\n",
       "    </tr>\n",
       "    <tr>\n",
       "      <th>days_employed</th>\n",
       "      <td>0</td>\n",
       "    </tr>\n",
       "    <tr>\n",
       "      <th>dob_years</th>\n",
       "      <td>0</td>\n",
       "    </tr>\n",
       "    <tr>\n",
       "      <th>education</th>\n",
       "      <td>0</td>\n",
       "    </tr>\n",
       "    <tr>\n",
       "      <th>education_id</th>\n",
       "      <td>0</td>\n",
       "    </tr>\n",
       "    <tr>\n",
       "      <th>family_status</th>\n",
       "      <td>0</td>\n",
       "    </tr>\n",
       "    <tr>\n",
       "      <th>family_status_id</th>\n",
       "      <td>0</td>\n",
       "    </tr>\n",
       "    <tr>\n",
       "      <th>gender</th>\n",
       "      <td>0</td>\n",
       "    </tr>\n",
       "    <tr>\n",
       "      <th>income_type</th>\n",
       "      <td>0</td>\n",
       "    </tr>\n",
       "    <tr>\n",
       "      <th>debt</th>\n",
       "      <td>0</td>\n",
       "    </tr>\n",
       "    <tr>\n",
       "      <th>total_income</th>\n",
       "      <td>0</td>\n",
       "    </tr>\n",
       "    <tr>\n",
       "      <th>purpose</th>\n",
       "      <td>0</td>\n",
       "    </tr>\n",
       "  </tbody>\n",
       "</table>\n",
       "</div>"
      ],
      "text/plain": [
       "                  0\n",
       "children          0\n",
       "days_employed     0\n",
       "dob_years         0\n",
       "education         0\n",
       "education_id      0\n",
       "family_status     0\n",
       "family_status_id  0\n",
       "gender            0\n",
       "income_type       0\n",
       "debt              0\n",
       "total_income      0\n",
       "purpose           0"
      ]
     },
     "execution_count": 14,
     "metadata": {},
     "output_type": "execute_result"
    }
   ],
   "source": [
    "data.isna().sum().to_frame()"
   ]
  },
  {
   "cell_type": "markdown",
   "id": "ddc81e43",
   "metadata": {
    "deletable": false,
    "id": "ddc81e43"
   },
   "source": [
    "### Изменение типов данных"
   ]
  },
  {
   "cell_type": "markdown",
   "id": "42d19d24",
   "metadata": {
    "deletable": false,
    "id": "42d19d24"
   },
   "source": [
    "**Заменим вещественный тип данных в столбце `total_income` на целочисленный (зарплата как правило начисляется в целых единицах):**"
   ]
  },
  {
   "cell_type": "code",
   "execution_count": 15,
   "id": "920b65ad",
   "metadata": {
    "deletable": false,
    "id": "920b65ad"
   },
   "outputs": [],
   "source": [
    "data['total_income'] = data['total_income'].astype(int)"
   ]
  },
  {
   "cell_type": "markdown",
   "id": "80c420ba",
   "metadata": {
    "deletable": false,
    "id": "80c420ba"
   },
   "source": [
    "### Обработка дубликатов"
   ]
  },
  {
   "cell_type": "markdown",
   "id": "dc587695",
   "metadata": {
    "deletable": false,
    "id": "dc587695"
   },
   "source": [
    "**Посчитаем количество строк-дубликатов:**"
   ]
  },
  {
   "cell_type": "code",
   "execution_count": 16,
   "id": "3ee445e4",
   "metadata": {
    "deletable": false,
    "id": "3ee445e4",
    "outputId": "9684deba-1934-42d1-99e1-cda61740f822"
   },
   "outputs": [
    {
     "data": {
      "text/plain": [
       "54"
      ]
     },
     "execution_count": 16,
     "metadata": {},
     "output_type": "execute_result"
    }
   ],
   "source": [
    "data.duplicated().sum()"
   ]
  },
  {
   "cell_type": "markdown",
   "id": "00cbc9ba",
   "metadata": {},
   "source": [
    "Их менее 1 %. Можно удалить:"
   ]
  },
  {
   "cell_type": "code",
   "execution_count": 17,
   "id": "8575fe05",
   "metadata": {
    "deletable": false,
    "id": "8575fe05"
   },
   "outputs": [],
   "source": [
    "data = data.drop_duplicates()"
   ]
  },
  {
   "cell_type": "markdown",
   "id": "bbee2300",
   "metadata": {},
   "source": [
    "**Обработаем неявные дубликаты в каждом столбце:**"
   ]
  },
  {
   "cell_type": "code",
   "execution_count": 18,
   "id": "6fb4ecb1",
   "metadata": {},
   "outputs": [
    {
     "name": "stdout",
     "output_type": "stream",
     "text": [
      "<class 'pandas.core.frame.DataFrame'>\n",
      "Int64Index: 21348 entries, 0 to 21524\n",
      "Data columns (total 12 columns):\n",
      " #   Column            Non-Null Count  Dtype  \n",
      "---  ------            --------------  -----  \n",
      " 0   children          21348 non-null  int64  \n",
      " 1   days_employed     21348 non-null  float64\n",
      " 2   dob_years         21348 non-null  int64  \n",
      " 3   education         21348 non-null  object \n",
      " 4   education_id      21348 non-null  int64  \n",
      " 5   family_status     21348 non-null  object \n",
      " 6   family_status_id  21348 non-null  int64  \n",
      " 7   gender            21348 non-null  object \n",
      " 8   income_type       21348 non-null  object \n",
      " 9   debt              21348 non-null  int64  \n",
      " 10  total_income      21348 non-null  int64  \n",
      " 11  purpose           21348 non-null  object \n",
      "dtypes: float64(1), int64(6), object(5)\n",
      "memory usage: 2.1+ MB\n"
     ]
    }
   ],
   "source": [
    "data.info()"
   ]
  },
  {
   "cell_type": "markdown",
   "id": "9771a76c",
   "metadata": {
    "deletable": false,
    "id": "9771a76c"
   },
   "source": [
    "Столбец `education`:"
   ]
  },
  {
   "cell_type": "code",
   "execution_count": 51,
   "id": "87543404",
   "metadata": {},
   "outputs": [
    {
     "name": "stdout",
     "output_type": "stream",
     "text": [
      "['высшее' 'среднее' 'неоконченное высшее' 'начальное' 'ученая степень']\n"
     ]
    }
   ],
   "source": [
    "print(data['education'].unique())"
   ]
  },
  {
   "cell_type": "markdown",
   "id": "4e0db295",
   "metadata": {},
   "source": [
    "Видим, что для избавления от неявных дуюликатов требуется привести всё к нижнему регистру:"
   ]
  },
  {
   "cell_type": "code",
   "execution_count": 20,
   "id": "a9f8e2bf",
   "metadata": {
    "deletable": false,
    "id": "a9f8e2bf"
   },
   "outputs": [],
   "source": [
    "data['education'] = data['education'].str.lower()"
   ]
  },
  {
   "cell_type": "markdown",
   "id": "e0e7ee21",
   "metadata": {},
   "source": [
    "Столбец `family_status`:"
   ]
  },
  {
   "cell_type": "code",
   "execution_count": 52,
   "id": "11b3e6f9",
   "metadata": {},
   "outputs": [
    {
     "name": "stdout",
     "output_type": "stream",
     "text": [
      "['женат / замужем' 'гражданский брак' 'вдовец / вдова' 'в разводе'\n",
      " 'не женат / не замужем']\n"
     ]
    }
   ],
   "source": [
    "print(data['family_status'].unique())"
   ]
  },
  {
   "cell_type": "markdown",
   "id": "85a76d27",
   "metadata": {},
   "source": [
    "Для единообразия приведём всё к нижнему регистру:"
   ]
  },
  {
   "cell_type": "code",
   "execution_count": 22,
   "id": "677df0b6",
   "metadata": {},
   "outputs": [],
   "source": [
    "data['family_status'] = data['family_status'].str.lower()"
   ]
  },
  {
   "cell_type": "markdown",
   "id": "51f396ed",
   "metadata": {},
   "source": [
    "Столбец `gender`:"
   ]
  },
  {
   "cell_type": "code",
   "execution_count": 53,
   "id": "f88e0115",
   "metadata": {},
   "outputs": [
    {
     "name": "stdout",
     "output_type": "stream",
     "text": [
      "['F' 'M' 'XNA']\n"
     ]
    }
   ],
   "source": [
    "print(data['gender'].unique())"
   ]
  },
  {
   "cell_type": "markdown",
   "id": "8cc83b29",
   "metadata": {},
   "source": [
    "Неявных дубликатов не наблюдается."
   ]
  },
  {
   "cell_type": "markdown",
   "id": "b777ed69",
   "metadata": {},
   "source": [
    "Столбец `income_type`:"
   ]
  },
  {
   "cell_type": "code",
   "execution_count": 54,
   "id": "839f5982",
   "metadata": {
    "scrolled": true
   },
   "outputs": [
    {
     "name": "stdout",
     "output_type": "stream",
     "text": [
      "['сотрудник' 'пенсионер' 'компаньон' 'госслужащий' 'безработный'\n",
      " 'предприниматель' 'студент' 'в декрете']\n"
     ]
    }
   ],
   "source": [
    "print(data['income_type'].unique())"
   ]
  },
  {
   "cell_type": "markdown",
   "id": "0b4f4e1e",
   "metadata": {},
   "source": [
    "Неявных дубликатов не наблюдается."
   ]
  },
  {
   "cell_type": "markdown",
   "id": "dde49b5c",
   "metadata": {
    "deletable": false,
    "id": "dde49b5c"
   },
   "source": [
    "Столбец `purpose`:"
   ]
  },
  {
   "cell_type": "code",
   "execution_count": 55,
   "id": "f67ce9b3",
   "metadata": {
    "deletable": false,
    "id": "f67ce9b3",
    "outputId": "673c12d9-7d7e-4ae0-9812-c622c89dd244",
    "scrolled": true
   },
   "outputs": [
    {
     "name": "stdout",
     "output_type": "stream",
     "text": [
      "['покупка жилья' 'приобретение автомобиля' 'дополнительное образование'\n",
      " 'сыграть свадьбу' 'операции с жильем' 'образование'\n",
      " 'на проведение свадьбы' 'покупка жилья для семьи' 'покупка недвижимости'\n",
      " 'покупка коммерческой недвижимости' 'покупка жилой недвижимости'\n",
      " 'строительство собственной недвижимости' 'недвижимость'\n",
      " 'строительство недвижимости' 'на покупку подержанного автомобиля'\n",
      " 'на покупку своего автомобиля' 'операции с коммерческой недвижимостью'\n",
      " 'строительство жилой недвижимости' 'жилье'\n",
      " 'операции со своей недвижимостью' 'автомобили' 'заняться образованием'\n",
      " 'сделка с подержанным автомобилем' 'получение образования' 'автомобиль'\n",
      " 'свадьба' 'получение дополнительного образования' 'покупка своего жилья'\n",
      " 'операции с недвижимостью' 'получение высшего образования'\n",
      " 'свой автомобиль' 'сделка с автомобилем' 'профильное образование'\n",
      " 'высшее образование' 'покупка жилья для сдачи' 'на покупку автомобиля'\n",
      " 'ремонт жилью' 'заняться высшим образованием']\n"
     ]
    }
   ],
   "source": [
    "print(data['purpose'].unique())"
   ]
  },
  {
   "cell_type": "markdown",
   "id": "85d0aef0",
   "metadata": {
    "deletable": false,
    "id": "85d0aef0"
   },
   "source": [
    "Наблюдаем большое количество неявных дубликатов. Для избавления от них используем функцию, которая разобьёт все данные на категории: "
   ]
  },
  {
   "cell_type": "code",
   "execution_count": 26,
   "id": "e149fab4",
   "metadata": {
    "deletable": false,
    "id": "e149fab4"
   },
   "outputs": [],
   "source": [
    "def categorize_purpose(row):\n",
    "    try:\n",
    "        if 'автом' in row:\n",
    "            return 'операции с автомобилем'\n",
    "        elif 'жил' in row or 'недвиж' in row:\n",
    "            return 'операции с недвижимостью'\n",
    "        elif 'свад' in row:\n",
    "            return 'проведение свадьбы'\n",
    "        elif 'образов' in row:\n",
    "            return 'получение образования'\n",
    "    except:\n",
    "        return 'нет категории'"
   ]
  },
  {
   "cell_type": "code",
   "execution_count": 27,
   "id": "d7464e7f",
   "metadata": {},
   "outputs": [],
   "source": [
    "data['purpose_category'] = data['purpose'].apply(categorize_purpose)"
   ]
  },
  {
   "cell_type": "markdown",
   "id": "9904cf55",
   "metadata": {
    "id": "9904cf55"
   },
   "source": [
    "Также разделим на категории данные о доходе в столбце `total_income_category` в соответствии со следующей схемой:\n",
    "\n",
    "- 0–30000 — `'E'`;\n",
    "- 30001–50000 — `'D'`;\n",
    "- 50001–200000 — `'C'`;\n",
    "- 200001–1000000 — `'B'`;\n",
    "- 1000001 и выше — `'A'`."
   ]
  },
  {
   "cell_type": "code",
   "execution_count": 28,
   "id": "e1771346",
   "metadata": {
    "deletable": false,
    "id": "e1771346"
   },
   "outputs": [],
   "source": [
    "def categorize_income(income):\n",
    "    try:\n",
    "        if 0 <= income <= 30000:\n",
    "            return 'E'\n",
    "        elif 30001 <= income <= 50000:\n",
    "            return 'D'\n",
    "        elif 50001 <= income <= 200000:\n",
    "            return 'C'\n",
    "        elif 200001 <= income <= 1000000:\n",
    "            return 'B'\n",
    "        elif income >= 1000001:\n",
    "            return 'A'\n",
    "    except:\n",
    "        pass"
   ]
  },
  {
   "cell_type": "code",
   "execution_count": 29,
   "id": "d5f3586d",
   "metadata": {
    "deletable": false,
    "id": "d5f3586d"
   },
   "outputs": [],
   "source": [
    "data['total_income_category'] = data['total_income'].apply(categorize_income)"
   ]
  },
  {
   "cell_type": "markdown",
   "id": "09b242bf",
   "metadata": {},
   "source": [
    "## Исследование данных"
   ]
  },
  {
   "cell_type": "markdown",
   "id": "c5d66278",
   "metadata": {},
   "source": [
    "**Выясним, есть ли зависимость между количеством детей и возвратом кредита в срок**"
   ]
  },
  {
   "cell_type": "markdown",
   "id": "879f34b6",
   "metadata": {},
   "source": [
    "Разобъём всех людей на группы по количеству детей. Затем посчитаем количество должников в каждой группе методом sum() (в столбце 'debt' 1 соответствует наличию долга, 0 его отсутствию) и выведем результат на экран в виде таблицы, где в первой строке стоит количество детей, а во второй количество должников в этой категории:"
   ]
  },
  {
   "cell_type": "code",
   "execution_count": 30,
   "id": "2cacfc4a",
   "metadata": {
    "id": "2cacfc4a"
   },
   "outputs": [
    {
     "data": {
      "text/html": [
       "<div>\n",
       "<style scoped>\n",
       "    .dataframe tbody tr th:only-of-type {\n",
       "        vertical-align: middle;\n",
       "    }\n",
       "\n",
       "    .dataframe tbody tr th {\n",
       "        vertical-align: top;\n",
       "    }\n",
       "\n",
       "    .dataframe thead th {\n",
       "        text-align: right;\n",
       "    }\n",
       "</style>\n",
       "<table border=\"1\" class=\"dataframe\">\n",
       "  <thead>\n",
       "    <tr style=\"text-align: right;\">\n",
       "      <th></th>\n",
       "      <th>0</th>\n",
       "      <th>1</th>\n",
       "      <th>2</th>\n",
       "      <th>3</th>\n",
       "      <th>4</th>\n",
       "      <th>5</th>\n",
       "    </tr>\n",
       "  </thead>\n",
       "  <tbody>\n",
       "    <tr>\n",
       "      <th>Количество должников</th>\n",
       "      <td>1063</td>\n",
       "      <td>444</td>\n",
       "      <td>194</td>\n",
       "      <td>27</td>\n",
       "      <td>4</td>\n",
       "      <td>0</td>\n",
       "    </tr>\n",
       "  </tbody>\n",
       "</table>\n",
       "</div>"
      ],
      "text/plain": [
       "                         0    1    2   3  4  5\n",
       "Количество должников  1063  444  194  27  4  0"
      ]
     },
     "metadata": {},
     "output_type": "display_data"
    }
   ],
   "source": [
    "children_debt_count = data.groupby('children')['debt'].sum()\n",
    "\n",
    "df = pd.DataFrame(data=[list(children_debt_count)], columns=list(children_debt_count.index))\n",
    "df = df.set_axis(['Количество должников'], axis='index')\n",
    "display(df)"
   ]
  },
  {
   "cell_type": "markdown",
   "id": "8fd57b41",
   "metadata": {},
   "source": [
    "Посчитаем общее количество людей в каждой группе, и выведем результат на экран в виде таблицы:"
   ]
  },
  {
   "cell_type": "code",
   "execution_count": 31,
   "id": "ca195264",
   "metadata": {},
   "outputs": [
    {
     "data": {
      "text/html": [
       "<div>\n",
       "<style scoped>\n",
       "    .dataframe tbody tr th:only-of-type {\n",
       "        vertical-align: middle;\n",
       "    }\n",
       "\n",
       "    .dataframe tbody tr th {\n",
       "        vertical-align: top;\n",
       "    }\n",
       "\n",
       "    .dataframe thead th {\n",
       "        text-align: right;\n",
       "    }\n",
       "</style>\n",
       "<table border=\"1\" class=\"dataframe\">\n",
       "  <thead>\n",
       "    <tr style=\"text-align: right;\">\n",
       "      <th></th>\n",
       "      <th>0</th>\n",
       "      <th>1</th>\n",
       "      <th>2</th>\n",
       "      <th>3</th>\n",
       "      <th>4</th>\n",
       "      <th>5</th>\n",
       "    </tr>\n",
       "  </thead>\n",
       "  <tbody>\n",
       "    <tr>\n",
       "      <th>Количество людей</th>\n",
       "      <td>14107</td>\n",
       "      <td>4809</td>\n",
       "      <td>2052</td>\n",
       "      <td>330</td>\n",
       "      <td>41</td>\n",
       "      <td>9</td>\n",
       "    </tr>\n",
       "  </tbody>\n",
       "</table>\n",
       "</div>"
      ],
      "text/plain": [
       "                      0     1     2    3   4  5\n",
       "Количество людей  14107  4809  2052  330  41  9"
      ]
     },
     "metadata": {},
     "output_type": "display_data"
    }
   ],
   "source": [
    "children_count = data.groupby('children')['debt'].count()\n",
    "\n",
    "df = pd.DataFrame(data=[list(children_count)], columns=list(children_count.index))\n",
    "df = df.set_axis(['Количество людей'], axis='index')\n",
    "display(df)"
   ]
  },
  {
   "cell_type": "markdown",
   "id": "3fce31a6",
   "metadata": {},
   "source": [
    "В этой строке посчитаем отношение должников к общему числу людей в группах:"
   ]
  },
  {
   "cell_type": "code",
   "execution_count": 32,
   "id": "b395bfb2",
   "metadata": {},
   "outputs": [],
   "source": [
    "children_debt_percentage = children_debt_count / children_count "
   ]
  },
  {
   "cell_type": "markdown",
   "id": "6f911437",
   "metadata": {},
   "source": [
    "Здесь результат, полученный в предыдущей строке, переведём в проценты и округлим до 1 знака после запятой, выведем результат на экран:"
   ]
  },
  {
   "cell_type": "code",
   "execution_count": 33,
   "id": "2550a405",
   "metadata": {},
   "outputs": [
    {
     "data": {
      "text/html": [
       "<div>\n",
       "<style scoped>\n",
       "    .dataframe tbody tr th:only-of-type {\n",
       "        vertical-align: middle;\n",
       "    }\n",
       "\n",
       "    .dataframe tbody tr th {\n",
       "        vertical-align: top;\n",
       "    }\n",
       "\n",
       "    .dataframe thead th {\n",
       "        text-align: right;\n",
       "    }\n",
       "</style>\n",
       "<table border=\"1\" class=\"dataframe\">\n",
       "  <thead>\n",
       "    <tr style=\"text-align: right;\">\n",
       "      <th></th>\n",
       "      <th>0</th>\n",
       "      <th>1</th>\n",
       "      <th>2</th>\n",
       "      <th>3</th>\n",
       "      <th>4</th>\n",
       "      <th>5</th>\n",
       "    </tr>\n",
       "  </thead>\n",
       "  <tbody>\n",
       "    <tr>\n",
       "      <th>Процент должников</th>\n",
       "      <td>7.5</td>\n",
       "      <td>9.2</td>\n",
       "      <td>9.5</td>\n",
       "      <td>8.2</td>\n",
       "      <td>9.8</td>\n",
       "      <td>0.0</td>\n",
       "    </tr>\n",
       "  </tbody>\n",
       "</table>\n",
       "</div>"
      ],
      "text/plain": [
       "                     0    1    2    3    4    5\n",
       "Процент должников  7.5  9.2  9.5  8.2  9.8  0.0"
      ]
     },
     "metadata": {},
     "output_type": "display_data"
    }
   ],
   "source": [
    "children_debt_percentage = (children_debt_percentage * 100).map('{:,.1f}'.format)\n",
    "\n",
    "df = pd.DataFrame(data=[list(children_debt_percentage)], columns=list(children_debt_percentage.index))\n",
    "df = df.set_axis(['Процент должников'], axis='index')\n",
    "display(df)"
   ]
  },
  {
   "cell_type": "markdown",
   "id": "14d03cc3",
   "metadata": {},
   "source": [
    "Для наглядности представим результат в виде столбчатой диаграммы:"
   ]
  },
  {
   "cell_type": "code",
   "execution_count": 34,
   "id": "1bc2ce6b",
   "metadata": {},
   "outputs": [
    {
     "data": {
      "image/png": "[encoded data removed]",
      "text/plain": [
       "<Figure size 1200x500 with 1 Axes>"
      ]
     },
     "metadata": {},
     "output_type": "display_data"
    }
   ],
   "source": [
    "df = pd.DataFrame({'Количество детей': list(children_debt_percentage.index),\n",
    "                   'Процент должников': list(children_debt_percentage)})\n",
    "df['Процент должников'] = df['Процент должников'].astype(float)\n",
    "\n",
    "ax = df.plot.bar(x='Количество детей', y='Процент должников', rot=0, figsize=(12, 5))\n",
    "\n",
    "ax.set_facecolor('seashell')\n",
    "\n",
    "plt.show()"
   ]
  },
  {
   "cell_type": "markdown",
   "id": "3a6b99ec",
   "metadata": {
    "deletable": false,
    "id": "3a6b99ec"
   },
   "source": [
    "**Вывод**: Существенных различий между количеством должников в каждой из групп нет. Нулевой показатель в группе, где 5 детей, может оказаться нерепрезентативным, так как там небольшое количество людей: всего 9. Наиболее низкие показатели в группах, где детей 0 или 3, их значения различаются всего лишь на 0.7%. Более высокие показатели (примерно на 2%) в группах, где 1, 2 и 4 детей.  \n",
    "Показатели для групп с 0 и 3 детьми могут означать отсутствие существенного влияния количества детей на способность возвратить долг в срок. Также, выборка может оказаться не вполне репрезентативной (из-за неравномерного распределения количества людей в каждой группе), из-за чего мы и наблюдаем небольшое различие между средним количеством должников в группах с 0 и 3 детьми (7.85%) и средним количеством в группах с 1, 2 и 4 детьми (9.5%). Таким образом, выкинув потенциально нерепрезентативные выборки, сделаем вывод на основе выборок из людей с количеством детей от 0 до 2. **Итак, наше исследование показывает, что чем меньше детей в семье, тем эффективнее люди отдают долги**"
   ]
  },
  {
   "cell_type": "markdown",
   "id": "6ec95c5c",
   "metadata": {},
   "source": [
    "**Далее во всех задачах будем придерживаться той же схемы, что и в задаче выше, поэтому, будем опускать подробности**"
   ]
  },
  {
   "cell_type": "markdown",
   "id": "97be82ca",
   "metadata": {},
   "source": [
    "**Исследуем зависимость между семейным положением и возвратом кредита в срок**"
   ]
  },
  {
   "cell_type": "markdown",
   "id": "826d6ca0",
   "metadata": {},
   "source": [
    "Количество должников в каждой группе:"
   ]
  },
  {
   "cell_type": "code",
   "execution_count": 35,
   "id": "926dbfca",
   "metadata": {},
   "outputs": [
    {
     "data": {
      "text/html": [
       "<div>\n",
       "<style scoped>\n",
       "    .dataframe tbody tr th:only-of-type {\n",
       "        vertical-align: middle;\n",
       "    }\n",
       "\n",
       "    .dataframe tbody tr th {\n",
       "        vertical-align: top;\n",
       "    }\n",
       "\n",
       "    .dataframe thead th {\n",
       "        text-align: right;\n",
       "    }\n",
       "</style>\n",
       "<table border=\"1\" class=\"dataframe\">\n",
       "  <thead>\n",
       "    <tr style=\"text-align: right;\">\n",
       "      <th></th>\n",
       "      <th>вдовец / вдова</th>\n",
       "      <th>в разводе</th>\n",
       "      <th>не женат / не замужем</th>\n",
       "      <th>гражданский брак</th>\n",
       "      <th>женат / замужем</th>\n",
       "    </tr>\n",
       "  </thead>\n",
       "  <tbody>\n",
       "    <tr>\n",
       "      <th>Количество должников</th>\n",
       "      <td>63</td>\n",
       "      <td>84</td>\n",
       "      <td>273</td>\n",
       "      <td>385</td>\n",
       "      <td>927</td>\n",
       "    </tr>\n",
       "  </tbody>\n",
       "</table>\n",
       "</div>"
      ],
      "text/plain": [
       "                      вдовец / вдова  в разводе  не женат / не замужем  \\\n",
       "Количество должников              63         84                    273   \n",
       "\n",
       "                      гражданский брак  женат / замужем  \n",
       "Количество должников               385              927  "
      ]
     },
     "metadata": {},
     "output_type": "display_data"
    }
   ],
   "source": [
    "family_debts_count = data.groupby('family_status')['debt'].sum().sort_values()\n",
    "\n",
    "df = pd.DataFrame(data=[list(family_debts_count)], columns=list(family_debts_count.index))\n",
    "df = df.set_axis(['Количество должников'], axis='index')\n",
    "display(df)"
   ]
  },
  {
   "cell_type": "markdown",
   "id": "3b39d255",
   "metadata": {},
   "source": [
    "Количество людей в каждой группе:"
   ]
  },
  {
   "cell_type": "code",
   "execution_count": 36,
   "id": "ba2f148f",
   "metadata": {},
   "outputs": [
    {
     "data": {
      "text/html": [
       "<div>\n",
       "<style scoped>\n",
       "    .dataframe tbody tr th:only-of-type {\n",
       "        vertical-align: middle;\n",
       "    }\n",
       "\n",
       "    .dataframe tbody tr th {\n",
       "        vertical-align: top;\n",
       "    }\n",
       "\n",
       "    .dataframe thead th {\n",
       "        text-align: right;\n",
       "    }\n",
       "</style>\n",
       "<table border=\"1\" class=\"dataframe\">\n",
       "  <thead>\n",
       "    <tr style=\"text-align: right;\">\n",
       "      <th></th>\n",
       "      <th>вдовец / вдова</th>\n",
       "      <th>в разводе</th>\n",
       "      <th>не женат / не замужем</th>\n",
       "      <th>гражданский брак</th>\n",
       "      <th>женат / замужем</th>\n",
       "    </tr>\n",
       "  </thead>\n",
       "  <tbody>\n",
       "    <tr>\n",
       "      <th>Количество людей</th>\n",
       "      <td>951</td>\n",
       "      <td>1189</td>\n",
       "      <td>2796</td>\n",
       "      <td>4146</td>\n",
       "      <td>12266</td>\n",
       "    </tr>\n",
       "  </tbody>\n",
       "</table>\n",
       "</div>"
      ],
      "text/plain": [
       "                  вдовец / вдова  в разводе  не женат / не замужем  \\\n",
       "Количество людей             951       1189                   2796   \n",
       "\n",
       "                  гражданский брак  женат / замужем  \n",
       "Количество людей              4146            12266  "
      ]
     },
     "metadata": {},
     "output_type": "display_data"
    }
   ],
   "source": [
    "family_count = data.groupby('family_status')['family_status_id'].count().sort_values()\n",
    "\n",
    "df = pd.DataFrame(data=[list(family_count)], columns=list(family_count.index))\n",
    "df = df.set_axis(['Количество людей'], axis='index')\n",
    "display(df)"
   ]
  },
  {
   "cell_type": "markdown",
   "id": "6c6c1bb3",
   "metadata": {},
   "source": [
    "Процент должников среди всех людей в каждой группе:"
   ]
  },
  {
   "cell_type": "code",
   "execution_count": 37,
   "id": "1b7c257c",
   "metadata": {},
   "outputs": [
    {
     "data": {
      "text/html": [
       "<div>\n",
       "<style scoped>\n",
       "    .dataframe tbody tr th:only-of-type {\n",
       "        vertical-align: middle;\n",
       "    }\n",
       "\n",
       "    .dataframe tbody tr th {\n",
       "        vertical-align: top;\n",
       "    }\n",
       "\n",
       "    .dataframe thead th {\n",
       "        text-align: right;\n",
       "    }\n",
       "</style>\n",
       "<table border=\"1\" class=\"dataframe\">\n",
       "  <thead>\n",
       "    <tr style=\"text-align: right;\">\n",
       "      <th></th>\n",
       "      <th>вдовец / вдова</th>\n",
       "      <th>в разводе</th>\n",
       "      <th>женат / замужем</th>\n",
       "      <th>гражданский брак</th>\n",
       "      <th>не женат / не замужем</th>\n",
       "    </tr>\n",
       "  </thead>\n",
       "  <tbody>\n",
       "    <tr>\n",
       "      <th>Процент должников</th>\n",
       "      <td>6.6</td>\n",
       "      <td>7.1</td>\n",
       "      <td>7.6</td>\n",
       "      <td>9.3</td>\n",
       "      <td>9.8</td>\n",
       "    </tr>\n",
       "  </tbody>\n",
       "</table>\n",
       "</div>"
      ],
      "text/plain": [
       "                  вдовец / вдова в разводе женат / замужем гражданский брак  \\\n",
       "Процент должников            6.6       7.1             7.6              9.3   \n",
       "\n",
       "                  не женат / не замужем  \n",
       "Процент должников                   9.8  "
      ]
     },
     "metadata": {},
     "output_type": "display_data"
    }
   ],
   "source": [
    "family_debt_percentage = family_debts_count / family_count \n",
    "family_debt_percentage = (family_debt_percentage*100).map('{:,.1f}'.format).sort_values()\n",
    "\n",
    "df = pd.DataFrame(data=[list(family_debt_percentage)], columns=list(family_debt_percentage.index))\n",
    "df = df.set_axis(['Процент должников'], axis='index')\n",
    "display(df)"
   ]
  },
  {
   "cell_type": "markdown",
   "id": "41dee8f0",
   "metadata": {},
   "source": [
    "Для наглядности представим результат в виде столбчатой диаграммы:"
   ]
  },
  {
   "cell_type": "code",
   "execution_count": 38,
   "id": "acf8c9be",
   "metadata": {},
   "outputs": [
    {
     "data": {
      "image/png": "[encoded data removed]",
      "text/plain": [
       "<Figure size 1200x500 with 1 Axes>"
      ]
     },
     "metadata": {},
     "output_type": "display_data"
    }
   ],
   "source": [
    "df = pd.DataFrame({'Семейное положение': list(family_debt_percentage.index), \n",
    "                   'Процент должников': list(family_debt_percentage)})\n",
    "df['Процент должников'] = df['Процент должников'].astype(float)\n",
    "\n",
    "ax = df.plot.bar(x='Семейное положение', y='Процент должников', rot=0, figsize=(12, 5))\n",
    "\n",
    "ax.set_facecolor('seashell')\n",
    "\n",
    "plt.show()"
   ]
  },
  {
   "cell_type": "markdown",
   "id": "1cef7837",
   "metadata": {
    "deletable": false,
    "id": "1cef7837"
   },
   "source": [
    "***Вывод ниже написан в следующих  предположениях: под \"гражданским браком\" подразумевают сожительство, незарегистрированное официально; под статусом \"женат/замужем\" подразумевается официально зарегистрированный брак***\n",
    "   \n",
    "**Вывод**: Процент должников в каждой категории отличается не очень сильно: самый низкий показатель у вдовцов -- 6.6%. Самый высокий у несостоящих в браке -- 9.8%. Однако прослеживается чёткая тенденция повышения количества долгов в зависимости от семейного положения: чем более опытен человек в брачных/внебрачных отношениях, тем более эффективно он отдаёт долги. Под опытом подразумевается прохождение этапов от неформального сожительства до развода или потери супруга. **Похоже, что люди, связанные формальными семейными обязательствами, более ответственны.**"
   ]
  },
  {
   "cell_type": "markdown",
   "id": "1e8b2fca",
   "metadata": {},
   "source": [
    "**Исследуем зависимость между уровнем дохода и возвратом кредита в срок**"
   ]
  },
  {
   "cell_type": "markdown",
   "id": "b67a4b25",
   "metadata": {},
   "source": [
    "Количество должников в каждой группе:"
   ]
  },
  {
   "cell_type": "code",
   "execution_count": 39,
   "id": "56f23a73",
   "metadata": {},
   "outputs": [
    {
     "data": {
      "text/html": [
       "<div>\n",
       "<style scoped>\n",
       "    .dataframe tbody tr th:only-of-type {\n",
       "        vertical-align: middle;\n",
       "    }\n",
       "\n",
       "    .dataframe tbody tr th {\n",
       "        vertical-align: top;\n",
       "    }\n",
       "\n",
       "    .dataframe thead th {\n",
       "        text-align: right;\n",
       "    }\n",
       "</style>\n",
       "<table border=\"1\" class=\"dataframe\">\n",
       "  <thead>\n",
       "    <tr style=\"text-align: right;\">\n",
       "      <th></th>\n",
       "      <th>A</th>\n",
       "      <th>B</th>\n",
       "      <th>C</th>\n",
       "      <th>D</th>\n",
       "      <th>E</th>\n",
       "    </tr>\n",
       "  </thead>\n",
       "  <tbody>\n",
       "    <tr>\n",
       "      <th>Количество должников</th>\n",
       "      <td>2</td>\n",
       "      <td>354</td>\n",
       "      <td>1353</td>\n",
       "      <td>21</td>\n",
       "      <td>2</td>\n",
       "    </tr>\n",
       "  </tbody>\n",
       "</table>\n",
       "</div>"
      ],
      "text/plain": [
       "                      A    B     C   D  E\n",
       "Количество должников  2  354  1353  21  2"
      ]
     },
     "metadata": {},
     "output_type": "display_data"
    }
   ],
   "source": [
    "income_debts_count = data.groupby('total_income_category')['debt'].sum()\n",
    "\n",
    "df = pd.DataFrame(data=[list(income_debts_count)], columns=list(income_debts_count.index))\n",
    "df = df.set_axis(['Количество должников'], axis='index')\n",
    "display(df)"
   ]
  },
  {
   "cell_type": "markdown",
   "id": "4b635013",
   "metadata": {},
   "source": [
    "Количество людей в каждой группе:"
   ]
  },
  {
   "cell_type": "code",
   "execution_count": 40,
   "id": "91d2bf14",
   "metadata": {},
   "outputs": [
    {
     "data": {
      "text/html": [
       "<div>\n",
       "<style scoped>\n",
       "    .dataframe tbody tr th:only-of-type {\n",
       "        vertical-align: middle;\n",
       "    }\n",
       "\n",
       "    .dataframe tbody tr th {\n",
       "        vertical-align: top;\n",
       "    }\n",
       "\n",
       "    .dataframe thead th {\n",
       "        text-align: right;\n",
       "    }\n",
       "</style>\n",
       "<table border=\"1\" class=\"dataframe\">\n",
       "  <thead>\n",
       "    <tr style=\"text-align: right;\">\n",
       "      <th></th>\n",
       "      <th>A</th>\n",
       "      <th>B</th>\n",
       "      <th>C</th>\n",
       "      <th>D</th>\n",
       "      <th>E</th>\n",
       "    </tr>\n",
       "  </thead>\n",
       "  <tbody>\n",
       "    <tr>\n",
       "      <th>Количество людей</th>\n",
       "      <td>25</td>\n",
       "      <td>5014</td>\n",
       "      <td>15938</td>\n",
       "      <td>349</td>\n",
       "      <td>22</td>\n",
       "    </tr>\n",
       "  </tbody>\n",
       "</table>\n",
       "</div>"
      ],
      "text/plain": [
       "                   A     B      C    D   E\n",
       "Количество людей  25  5014  15938  349  22"
      ]
     },
     "metadata": {},
     "output_type": "display_data"
    }
   ],
   "source": [
    "income_count = data.groupby('total_income_category')['total_income'].count()\n",
    "\n",
    "df = pd.DataFrame(data=[list(income_count)], columns=list(income_count.index))\n",
    "df = df.set_axis(['Количество людей'], axis='index')\n",
    "display(df)"
   ]
  },
  {
   "cell_type": "markdown",
   "id": "f3bc8130",
   "metadata": {},
   "source": [
    "Процент должников среди всех людей в каждой группе:"
   ]
  },
  {
   "cell_type": "code",
   "execution_count": 41,
   "id": "9b3b7042",
   "metadata": {},
   "outputs": [
    {
     "data": {
      "text/html": [
       "<div>\n",
       "<style scoped>\n",
       "    .dataframe tbody tr th:only-of-type {\n",
       "        vertical-align: middle;\n",
       "    }\n",
       "\n",
       "    .dataframe tbody tr th {\n",
       "        vertical-align: top;\n",
       "    }\n",
       "\n",
       "    .dataframe thead th {\n",
       "        text-align: right;\n",
       "    }\n",
       "</style>\n",
       "<table border=\"1\" class=\"dataframe\">\n",
       "  <thead>\n",
       "    <tr style=\"text-align: right;\">\n",
       "      <th></th>\n",
       "      <th>A</th>\n",
       "      <th>B</th>\n",
       "      <th>C</th>\n",
       "      <th>D</th>\n",
       "      <th>E</th>\n",
       "    </tr>\n",
       "  </thead>\n",
       "  <tbody>\n",
       "    <tr>\n",
       "      <th>Процент должников</th>\n",
       "      <td>8.0</td>\n",
       "      <td>7.1</td>\n",
       "      <td>8.5</td>\n",
       "      <td>6.0</td>\n",
       "      <td>9.1</td>\n",
       "    </tr>\n",
       "  </tbody>\n",
       "</table>\n",
       "</div>"
      ],
      "text/plain": [
       "                     A    B    C    D    E\n",
       "Процент должников  8.0  7.1  8.5  6.0  9.1"
      ]
     },
     "metadata": {},
     "output_type": "display_data"
    }
   ],
   "source": [
    "income_debt_percentage = income_debts_count / income_count \n",
    "income_debt_percentage = (income_debt_percentage*100).map('{:,.1f}'.format)\n",
    "\n",
    "df = pd.DataFrame(data=[list(income_debt_percentage)], columns=list(income_debt_percentage.index))\n",
    "df = df.set_axis(['Процент должников'], axis='index')\n",
    "display(df)"
   ]
  },
  {
   "cell_type": "markdown",
   "id": "448cc608",
   "metadata": {},
   "source": [
    "Для наглядности представим результат в виде столбчатой диаграммы:"
   ]
  },
  {
   "cell_type": "code",
   "execution_count": 42,
   "id": "596e2b76",
   "metadata": {},
   "outputs": [
    {
     "data": {
      "image/png": "[encoded data removed]",
      "text/plain": [
       "<Figure size 1200x500 with 1 Axes>"
      ]
     },
     "metadata": {},
     "output_type": "display_data"
    }
   ],
   "source": [
    "#print(list(income_debt_percentage.index))\n",
    "index = list(income_debt_percentage.index)\n",
    "for i in range(len(index)):\n",
    "    if index[i] == 'A':\n",
    "        index[i] = '1000000 < ' + 'A'\n",
    "    if index[i] == 'B':\n",
    "        index[i] = '200000 < ' + 'B' + ' <= 1000000'\n",
    "    if index[i] == 'C':\n",
    "        index[i] = '50000 < ' + 'C' + ' <= 200000'\n",
    "    if index[i] == 'D':\n",
    "        index[i] = '30000 < ' + 'D' + ' <= 50000'\n",
    "    if index[i] == 'E':\n",
    "        index[i] = '0 < ' + 'E' + ' <= 30000'\n",
    "    \n",
    "df = pd.DataFrame({'Уровень дохода': list(index), 'Процент должников': list(income_debt_percentage)})\n",
    "df['Процент должников'] = df['Процент должников'].astype(float)\n",
    "\n",
    "ax = df.plot.bar(x='Уровень дохода', y='Процент должников', rot=0, figsize=(12, 5))\n",
    "\n",
    "ax.set_facecolor('seashell')\n",
    "\n",
    "plt.show()"
   ]
  },
  {
   "cell_type": "markdown",
   "id": "e8593def",
   "metadata": {
    "deletable": false,
    "id": "e8593def"
   },
   "source": [
    "**Вывод:** Существенной разницы между процентными количествами должников в каждой группе нет. Также нет и прямой зависимости количества должников от уровня дохода: лучше всего возвращают долги люди из категории D с доходом ниже среднего, а люди из категории A со сверхдоходами отстают от D в скорости отдачи долгов на 2 позиции. Такой разброс выглядит подозрительно: есть предположение, что результаты, соответствующие маленьким по количеству людей выборкам не репрезентативны. Внесём коррективы: выкинем из рассмотрения категории A, D и E, где количество людей на порядки меньше, чем в категориях B и C (но это, кажется, и логично, судя по средней заработной плате в московском регионе).**Отсюда можно сделать вывод, что лучше отдают долги люди с более высоким уровнем дохода.**   "
   ]
  },
  {
   "cell_type": "markdown",
   "id": "99ecbd1f",
   "metadata": {},
   "source": [
    "**Исследуем влияние разных целей кредита на его возврат в срок**"
   ]
  },
  {
   "cell_type": "markdown",
   "id": "12aa9fb7",
   "metadata": {},
   "source": [
    "Количество должников в каждой группе:"
   ]
  },
  {
   "cell_type": "code",
   "execution_count": 43,
   "id": "b8eac240",
   "metadata": {},
   "outputs": [
    {
     "data": {
      "text/html": [
       "<div>\n",
       "<style scoped>\n",
       "    .dataframe tbody tr th:only-of-type {\n",
       "        vertical-align: middle;\n",
       "    }\n",
       "\n",
       "    .dataframe tbody tr th {\n",
       "        vertical-align: top;\n",
       "    }\n",
       "\n",
       "    .dataframe thead th {\n",
       "        text-align: right;\n",
       "    }\n",
       "</style>\n",
       "<table border=\"1\" class=\"dataframe\">\n",
       "  <thead>\n",
       "    <tr style=\"text-align: right;\">\n",
       "      <th></th>\n",
       "      <th>операции с автомобилем</th>\n",
       "      <th>операции с недвижимостью</th>\n",
       "      <th>получение образования</th>\n",
       "      <th>проведение свадьбы</th>\n",
       "    </tr>\n",
       "  </thead>\n",
       "  <tbody>\n",
       "    <tr>\n",
       "      <th>Количество должников</th>\n",
       "      <td>400</td>\n",
       "      <td>780</td>\n",
       "      <td>369</td>\n",
       "      <td>183</td>\n",
       "    </tr>\n",
       "  </tbody>\n",
       "</table>\n",
       "</div>"
      ],
      "text/plain": [
       "                      операции с автомобилем  операции с недвижимостью  \\\n",
       "Количество должников                     400                       780   \n",
       "\n",
       "                      получение образования  проведение свадьбы  \n",
       "Количество должников                    369                 183  "
      ]
     },
     "metadata": {},
     "output_type": "display_data"
    }
   ],
   "source": [
    "purpose_debts_count = data.groupby('purpose_category')['debt'].sum()\n",
    "\n",
    "df = pd.DataFrame(data=[list(purpose_debts_count)], columns=list(purpose_debts_count.index))\n",
    "df = df.set_axis(['Количество должников'], axis='index')\n",
    "display(df)"
   ]
  },
  {
   "cell_type": "markdown",
   "id": "02460f9e",
   "metadata": {},
   "source": [
    "Количество людей в каждой группе:"
   ]
  },
  {
   "cell_type": "code",
   "execution_count": 44,
   "id": "23a10973",
   "metadata": {},
   "outputs": [
    {
     "data": {
      "text/html": [
       "<div>\n",
       "<style scoped>\n",
       "    .dataframe tbody tr th:only-of-type {\n",
       "        vertical-align: middle;\n",
       "    }\n",
       "\n",
       "    .dataframe tbody tr th {\n",
       "        vertical-align: top;\n",
       "    }\n",
       "\n",
       "    .dataframe thead th {\n",
       "        text-align: right;\n",
       "    }\n",
       "</style>\n",
       "<table border=\"1\" class=\"dataframe\">\n",
       "  <thead>\n",
       "    <tr style=\"text-align: right;\">\n",
       "      <th></th>\n",
       "      <th>операции с автомобилем</th>\n",
       "      <th>операции с недвижимостью</th>\n",
       "      <th>получение образования</th>\n",
       "      <th>проведение свадьбы</th>\n",
       "    </tr>\n",
       "  </thead>\n",
       "  <tbody>\n",
       "    <tr>\n",
       "      <th>Количество должников</th>\n",
       "      <td>4281</td>\n",
       "      <td>10754</td>\n",
       "      <td>3989</td>\n",
       "      <td>2324</td>\n",
       "    </tr>\n",
       "  </tbody>\n",
       "</table>\n",
       "</div>"
      ],
      "text/plain": [
       "                      операции с автомобилем  операции с недвижимостью  \\\n",
       "Количество должников                    4281                     10754   \n",
       "\n",
       "                      получение образования  проведение свадьбы  \n",
       "Количество должников                   3989                2324  "
      ]
     },
     "metadata": {},
     "output_type": "display_data"
    }
   ],
   "source": [
    "purpose_count = data.groupby('purpose_category')['purpose'].count()\n",
    "\n",
    "df = pd.DataFrame(data=[list(purpose_count)], columns=list(purpose_count.index))\n",
    "df = df.set_axis(['Количество должников'], axis='index')\n",
    "display(df)"
   ]
  },
  {
   "cell_type": "markdown",
   "id": "40db03da",
   "metadata": {},
   "source": [
    "Процент должников среди всех людей в каждой группе:"
   ]
  },
  {
   "cell_type": "code",
   "execution_count": 45,
   "id": "3853b622",
   "metadata": {},
   "outputs": [
    {
     "data": {
      "text/html": [
       "<div>\n",
       "<style scoped>\n",
       "    .dataframe tbody tr th:only-of-type {\n",
       "        vertical-align: middle;\n",
       "    }\n",
       "\n",
       "    .dataframe tbody tr th {\n",
       "        vertical-align: top;\n",
       "    }\n",
       "\n",
       "    .dataframe thead th {\n",
       "        text-align: right;\n",
       "    }\n",
       "</style>\n",
       "<table border=\"1\" class=\"dataframe\">\n",
       "  <thead>\n",
       "    <tr style=\"text-align: right;\">\n",
       "      <th></th>\n",
       "      <th>операции с недвижимостью</th>\n",
       "      <th>проведение свадьбы</th>\n",
       "      <th>операции с автомобилем</th>\n",
       "      <th>получение образования</th>\n",
       "    </tr>\n",
       "  </thead>\n",
       "  <tbody>\n",
       "    <tr>\n",
       "      <th>Процент должников</th>\n",
       "      <td>7.3</td>\n",
       "      <td>7.9</td>\n",
       "      <td>9.3</td>\n",
       "      <td>9.3</td>\n",
       "    </tr>\n",
       "  </tbody>\n",
       "</table>\n",
       "</div>"
      ],
      "text/plain": [
       "                  операции с недвижимостью проведение свадьбы  \\\n",
       "Процент должников                      7.3                7.9   \n",
       "\n",
       "                  операции с автомобилем получение образования  \n",
       "Процент должников                    9.3                   9.3  "
      ]
     },
     "metadata": {},
     "output_type": "display_data"
    }
   ],
   "source": [
    "purpose_debt_percentage = purpose_debts_count / purpose_count \n",
    "purpose_debt_percentage = (purpose_debt_percentage*100).map('{:,.1f}'.format).sort_values()\n",
    "\n",
    "df = pd.DataFrame(data=[list(purpose_debt_percentage)], columns=list(purpose_debt_percentage.index))\n",
    "df = df.set_axis(['Процент должников'], axis='index')\n",
    "display(df)"
   ]
  },
  {
   "cell_type": "markdown",
   "id": "84c0e75c",
   "metadata": {},
   "source": [
    "Для наглядности представим результат в виде столбчатой диаграммы:"
   ]
  },
  {
   "cell_type": "code",
   "execution_count": 46,
   "id": "f1a4ee4c",
   "metadata": {},
   "outputs": [
    {
     "data": {
      "image/png": "[encoded data removed]",
      "text/plain": [
       "<Figure size 1200x500 with 1 Axes>"
      ]
     },
     "metadata": {},
     "output_type": "display_data"
    }
   ],
   "source": [
    "df = pd.DataFrame({'Семейное положение': list(purpose_debt_percentage.index), \n",
    "                   'Процент должников': list(purpose_debt_percentage)})\n",
    "df['Процент должников'] = df['Процент должников'].astype(float)\n",
    "\n",
    "ax = df.plot.bar(x='Семейное положение', y='Процент должников', rot=0, figsize=(12, 5))\n",
    "\n",
    "ax.set_facecolor('seashell')\n",
    "\n",
    "plt.show()"
   ]
  },
  {
   "cell_type": "markdown",
   "id": "b4bb2ce6",
   "metadata": {
    "deletable": false,
    "id": "b4bb2ce6"
   },
   "source": [
    "**Вывод:** Охотнее всего возвращаются долги, связанные с операциями с недвижимостью (там 7.3% должников); чуть хуже обстоит дело с долгами на проведением свадьбы (там 7.9% должников). Хуже обстоят дела с займами на операции с автомобилями и на получение образования (в обеих категориях процент должников -- 9.3)."
   ]
  },
  {
   "cell_type": "markdown",
   "id": "09c3ac4c",
   "metadata": {},
   "source": [
    "**Возможные причины появления пропусков в исходных данных:**"
   ]
  },
  {
   "cell_type": "markdown",
   "id": "9da2ceda",
   "metadata": {
    "deletable": false,
    "id": "9da2ceda"
   },
   "source": [
    "*Отступление:* То, что одновременно в двух столбцах `days_employed` и `total_income` насчитывается ровно 2174 пропуска, выглядит подозрительно. Было бы странно, чтобы каждый человек, не указавший суммарное количество рабочих дней, решил ещё и не указывать свой доход; также маловероятно, что одинаковое число пропусков сформировалось из тех, кто сделал пропуски только в одной графе. Поэтому, здесь, скорее всего, имеет место быть намеренное искажение данных непонятно кем для непонятно каких учебных целей, ведь в жизни такое навряд ли встретится.\n",
    "\n",
    "Возможные причины пропусков:\n",
    "\n",
    "1) Причиной пропусков сразу в двух столбцах может быть техническая ошибка. И вообще, именно в этих двух столбцах тип ячеек `float`, а количество дней в найме бывает только целым; и суммарный доход обычно является целым числом. Стало быть, система могла дать сбой на какой-то определённой группе людей, непонятно по какому критерию.\n",
    "\n",
    "2) Ещё одной причиной пропусков мог стать некорректный ввод данных. Пропуски могли возникнуть из-за ошибочной обработки введённых клиентом данных системой, например, он хотел указать, что его доход равен 200000, и решил записать это так: 200'000 система не сможет это считать как число.        \n",
    "\n",
    "3) Причиной пропусков данных в столбце `total_income` могло стать нежелание клиента раскрывать информацию о своих доходах (возможно, он уклоняется от налогов). Причиной появления пропусков в столбце `days_employed` также могло стать нежелание раскрывать информацию: так, например, число дней в найме могло не согласовываться с суммарным доходом и статусом сотрудника (могли иметь место нелегальные источники дохода)."
   ]
  },
  {
   "cell_type": "markdown",
   "id": "7b0487d6",
   "metadata": {},
   "source": [
    "З**аполнение пропусков медианным значением — лучшее решение для количественных переменных:**"
   ]
  },
  {
   "cell_type": "markdown",
   "id": "7ecf2b8e",
   "metadata": {
    "deletable": false,
    "id": "7ecf2b8e"
   },
   "source": [
    "Заполнение пропусков средним значением может привести к искажению данных, так как среди всех, допустим, 100000 переменных может найтись одна такая, которая резко отличается от всех остальных в одну или другую сторону; эта переменная сильно повлияет на значение для среднего. Медиана же делит отсортированную выборку на две примерно равных по объёму части, такая оценка исключает влияние аномальных элементов выборки, которые будут находиться в конце или начале."
   ]
  },
  {
   "cell_type": "markdown",
   "id": "6db5255a",
   "metadata": {},
   "source": [
    "## Общий вывод"
   ]
  },
  {
   "cell_type": "markdown",
   "id": "bad65432",
   "metadata": {
    "id": "bad65432"
   },
   "source": [
    "**Вывод:** Во всех случаях процент должников в данной группе составлял от 6% до 10% от общего числа людей. Разность процентных значений в группах данного разбиения не превосходила 3%. Неожиданные промежуточные значения в результатах исследований можно обьяснить небольшим количеством людей в некоторых выборках, из-за чего они могли стать нерепрезентативными (так, например, вычисления при изучении связи между уровнем дохода и возвратом кредита в срок показали, что более состоятельные клиенты подходят к выплатам кредитов менее ответственно, чем клиенты со средним доходом, число клиентов в каждой группе различается на порядок). \n",
    "    \n",
    "*Небольшое резюме по каждому мини-исследованию:*\n",
    "    \n",
    "В первом эксперименте с разбиением людей на группы по количеству детей оказалось, что лучше всего отдают долги бездетные. Во втором эксперименте с разбиением людей на группы по семейному положению лучше всех отдают долги вдовцы: в этой группе процент должников равен 6.6%, хуже всех -- люди, не состоящие в отношениях. В третьем эксперименте с разбиением людей на группы по уровню дохода наблюдается следующая тенденция: чем больше человек зарабатывает, тем лучше он отдаёт долги. В группировке по целям займа наименьший процент должников оказался в группе операций с недвижимостью -- 7.3%, наибольший процент равный 9.3 -- в группах с операциями с автомобилем и получением образования. \n",
    "\n",
    "**Наиболее сильная корреляция количества должников от изучаемого фактора оказалась в разбиение на группы по семейному положению. На втором месте по значимости можно оставить уровень дохода. На третьем -- количество детей. На четвёртом -- цель займа.**"
   ]
  }
 ],
 "metadata": {
  "ExecuteTimeLog": [
   {
    "duration": 658,
    "start_time": "2022-07-26T11:59:52.596Z"
   },
   {
    "duration": 19,
    "start_time": "2022-07-26T11:59:57.233Z"
   },
   {
    "duration": 16,
    "start_time": "2022-07-26T12:00:01.075Z"
   },
   {
    "duration": 10,
    "start_time": "2022-07-26T12:00:04.163Z"
   },
   {
    "duration": 30,
    "start_time": "2022-07-26T12:00:07.429Z"
   },
   {
    "duration": 3,
    "start_time": "2022-07-26T12:00:16.788Z"
   },
   {
    "duration": 9,
    "start_time": "2022-07-26T12:00:24.170Z"
   },
   {
    "duration": 5,
    "start_time": "2022-07-26T12:00:26.606Z"
   },
   {
    "duration": 7,
    "start_time": "2022-07-26T12:00:29.236Z"
   },
   {
    "duration": 5,
    "start_time": "2022-07-26T12:00:32.611Z"
   },
   {
    "duration": 31,
    "start_time": "2022-07-26T12:00:36.009Z"
   },
   {
    "duration": 10,
    "start_time": "2022-07-26T12:00:43.212Z"
   },
   {
    "duration": 4,
    "start_time": "2022-07-26T12:00:47.112Z"
   },
   {
    "duration": 18,
    "start_time": "2022-07-26T12:00:49.638Z"
   },
   {
    "duration": 18,
    "start_time": "2022-07-26T12:00:51.740Z"
   },
   {
    "duration": 11,
    "start_time": "2022-07-26T12:00:54.701Z"
   },
   {
    "duration": 3,
    "start_time": "2022-07-26T12:00:59.056Z"
   },
   {
    "duration": 9,
    "start_time": "2022-07-26T12:01:06.647Z"
   },
   {
    "duration": 10,
    "start_time": "2022-07-26T12:15:40.737Z"
   },
   {
    "duration": 7,
    "start_time": "2022-07-26T12:15:42.750Z"
   },
   {
    "duration": 4,
    "start_time": "2022-07-26T12:15:52.944Z"
   },
   {
    "duration": 100,
    "start_time": "2022-07-26T12:16:23.290Z"
   },
   {
    "duration": 445,
    "start_time": "2022-07-26T12:17:36.251Z"
   }
  ],
  "celltoolbar": "Необработанный формат ячейки",
  "colab": {
   "name": "dpp_template_part2.ipynb",
   "provenance": []
  },
  "kernelspec": {
   "display_name": "Python 3 (ipykernel)",
   "language": "python",
   "name": "python3"
  },
  "language_info": {
   "codemirror_mode": {
    "name": "ipython",
    "version": 3
   },
   "file_extension": ".py",
   "mimetype": "text/x-python",
   "name": "python",
   "nbconvert_exporter": "python",
   "pygments_lexer": "ipython3",
   "version": "3.9.13"
  },
  "toc": {
   "base_numbering": 1,
   "nav_menu": {},
   "number_sections": true,
   "sideBar": true,
   "skip_h1_title": true,
   "title_cell": "Содержание",
   "title_sidebar": "Contents",
   "toc_cell": true,
   "toc_position": {
    "height": "555.2px",
    "left": "61px",
    "top": "110.525px",
    "width": "294.4px"
   },
   "toc_section_display": true,
   "toc_window_display": true
  }
 },
 "nbformat": 4,
 "nbformat_minor": 5
}
